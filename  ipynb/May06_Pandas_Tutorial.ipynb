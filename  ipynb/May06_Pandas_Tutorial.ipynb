{
 "cells": [
  {
   "metadata": {
    "ExecuteTime": {
     "end_time": "2025-05-06T02:19:44.482393Z",
     "start_time": "2025-05-06T02:19:44.472356Z"
    }
   },
   "cell_type": "code",
   "source": [
    "from app.util.sqlite.sqliteSample import SqliteTool\n",
    "\n",
    "# Database 접속\n",
    "t = SqliteTool()\n",
    "print(t.is_connected)"
   ],
   "id": "9abef5638db00eef",
   "outputs": [
    {
     "name": "stdout",
     "output_type": "stream",
     "text": [
      "False\n"
     ]
    }
   ],
   "execution_count": 1
  },
  {
   "metadata": {
    "ExecuteTime": {
     "end_time": "2025-05-06T02:19:57.135086Z",
     "start_time": "2025-05-06T02:19:57.128765Z"
    }
   },
   "cell_type": "code",
   "source": [
    "QUERY = \"\"\"\n",
    "SELECT Player, Age, Gls\n",
    "FROM players\n",
    "WHERE\n",
    "Age >= 30 AND\n",
    "Gls >= 5\n",
    "ORDER BY Age DESC;\n",
    "\"\"\"\n",
    "\n",
    "# Query 수행 및 결과 리스트 반환\n",
    "dataset = t.EXECUTE(QUERY)"
   ],
   "id": "1c86768d0b8bdc43",
   "outputs": [],
   "execution_count": 3
  },
  {
   "metadata": {
    "ExecuteTime": {
     "end_time": "2025-05-06T02:20:08.562879Z",
     "start_time": "2025-05-06T02:20:08.556078Z"
    }
   },
   "cell_type": "code",
   "source": "print(dataset)",
   "id": "931d86bb9e82f436",
   "outputs": [
    {
     "name": "stdout",
     "output_type": "stream",
     "text": [
      "[('Michail Antonio', 33, 6.0), ('Raúl Jiménez', 32, 7.0), ('Danny Welbeck', 32, 5.0), ('Mohamed Salah', 31, 18.0), ('Callum Wilson', 31, 9.0), ('Son Heung-min', 31, 17.0), ('Chris Wood', 31, 14.0), ('Bobby Reid', 30, 6.0), ('Abdoulaye Doucouré', 30, 7.0)]\n"
     ]
    }
   ],
   "execution_count": 4
  },
  {
   "metadata": {
    "ExecuteTime": {
     "end_time": "2025-05-08T14:38:43.153383Z",
     "start_time": "2025-05-08T14:38:43.102256Z"
    }
   },
   "cell_type": "code",
   "source": [
    "import pandas as pd\n",
    "\n",
    "# 데이터프레임 만들기\n",
    "df = pd.DataFrame(dataset, columns=['Player', 'Age', 'Gls'])\n",
    "\n",
    "# 데이터프레임 출력 :: 주피터 노트북에서만 가능\n",
    "df"
   ],
   "id": "2195ad056d86dc9b",
   "outputs": [
    {
     "ename": "NameError",
     "evalue": "name 'dataset' is not defined",
     "output_type": "error",
     "traceback": [
      "\u001B[31m---------------------------------------------------------------------------\u001B[39m",
      "\u001B[31mNameError\u001B[39m                                 Traceback (most recent call last)",
      "\u001B[36mCell\u001B[39m\u001B[36m \u001B[39m\u001B[32mIn[2]\u001B[39m\u001B[32m, line 4\u001B[39m\n\u001B[32m      1\u001B[39m \u001B[38;5;28;01mimport\u001B[39;00m\u001B[38;5;250m \u001B[39m\u001B[34;01mpandas\u001B[39;00m\u001B[38;5;250m \u001B[39m\u001B[38;5;28;01mas\u001B[39;00m\u001B[38;5;250m \u001B[39m\u001B[34;01mpd\u001B[39;00m\n\u001B[32m      3\u001B[39m \u001B[38;5;66;03m# 데이터프레임 만들기\u001B[39;00m\n\u001B[32m----> \u001B[39m\u001B[32m4\u001B[39m df = pd.DataFrame(\u001B[43mdataset\u001B[49m, columns=[\u001B[33m'\u001B[39m\u001B[33mPlayer\u001B[39m\u001B[33m'\u001B[39m, \u001B[33m'\u001B[39m\u001B[33mAge\u001B[39m\u001B[33m'\u001B[39m, \u001B[33m'\u001B[39m\u001B[33mGls\u001B[39m\u001B[33m'\u001B[39m])\n\u001B[32m      6\u001B[39m \u001B[38;5;66;03m# 데이터프레임 출력 :: 주피터 노트북에서만 가능\u001B[39;00m\n\u001B[32m      7\u001B[39m df\n",
      "\u001B[31mNameError\u001B[39m: name 'dataset' is not defined"
     ]
    }
   ],
   "execution_count": 2
  },
  {
   "metadata": {
    "ExecuteTime": {
     "end_time": "2025-05-08T14:37:39.189396Z",
     "start_time": "2025-05-08T14:37:37.700005Z"
    }
   },
   "cell_type": "code",
   "source": [
    "import pandas as pd\n",
    "\n",
    "df = pd.DataFrame(dataset, columns=['Player', 'Team', 'Age', 'Pos', 'MP', 'Gls', 'Ast', 'GnA', 'PK'])\n",
    "\n",
    "df\n"
   ],
   "id": "dfb9abddcb26930a",
   "outputs": [
    {
     "ename": "NameError",
     "evalue": "name 'dataset' is not defined",
     "output_type": "error",
     "traceback": [
      "\u001B[31m---------------------------------------------------------------------------\u001B[39m",
      "\u001B[31mNameError\u001B[39m                                 Traceback (most recent call last)",
      "\u001B[36mCell\u001B[39m\u001B[36m \u001B[39m\u001B[32mIn[1]\u001B[39m\u001B[32m, line 3\u001B[39m\n\u001B[32m      1\u001B[39m \u001B[38;5;28;01mimport\u001B[39;00m\u001B[38;5;250m \u001B[39m\u001B[34;01mpandas\u001B[39;00m\u001B[38;5;250m \u001B[39m\u001B[38;5;28;01mas\u001B[39;00m\u001B[38;5;250m \u001B[39m\u001B[34;01mpd\u001B[39;00m\n\u001B[32m----> \u001B[39m\u001B[32m3\u001B[39m df = pd.DataFrame(\u001B[43mdataset\u001B[49m, columns=[\u001B[33m'\u001B[39m\u001B[33mPlayer\u001B[39m\u001B[33m'\u001B[39m, \u001B[33m'\u001B[39m\u001B[33mTeam\u001B[39m\u001B[33m'\u001B[39m, \u001B[33m'\u001B[39m\u001B[33mAge\u001B[39m\u001B[33m'\u001B[39m, \u001B[33m'\u001B[39m\u001B[33mPos\u001B[39m\u001B[33m'\u001B[39m, \u001B[33m'\u001B[39m\u001B[33mMP\u001B[39m\u001B[33m'\u001B[39m, \u001B[33m'\u001B[39m\u001B[33mGls\u001B[39m\u001B[33m'\u001B[39m, \u001B[33m'\u001B[39m\u001B[33mAst\u001B[39m\u001B[33m'\u001B[39m, \u001B[33m'\u001B[39m\u001B[33mGnA\u001B[39m\u001B[33m'\u001B[39m, \u001B[33m'\u001B[39m\u001B[33mPK\u001B[39m\u001B[33m'\u001B[39m])\n\u001B[32m      5\u001B[39m df\n",
      "\u001B[31mNameError\u001B[39m: name 'dataset' is not defined"
     ]
    }
   ],
   "execution_count": 1
  }
 ],
 "metadata": {
  "kernelspec": {
   "display_name": "Python 3",
   "language": "python",
   "name": "python3"
  },
  "language_info": {
   "codemirror_mode": {
    "name": "ipython",
    "version": 2
   },
   "file_extension": ".py",
   "mimetype": "text/x-python",
   "name": "python",
   "nbconvert_exporter": "python",
   "pygments_lexer": "ipython2",
   "version": "2.7.6"
  }
 },
 "nbformat": 4,
 "nbformat_minor": 5
}
