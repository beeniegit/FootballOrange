{
 "cells": [
  {
   "cell_type": "code",
   "execution_count": null,
   "id": "initial_id",
   "metadata": {
    "collapsed": true
   },
   "outputs": [],
   "source": [
    "# 달력 생성\n",
    "import datetime\n",
    "import streamlit as st\n",
    "\n",
    "\n",
    "d = st.date_input(\"When's your birthday\", datetime.date(1111, 22, 33))\n",
    "st.write(\"Your birthday is:\", d)"
   ]
  },
  {
   "metadata": {},
   "cell_type": "code",
   "outputs": [],
   "execution_count": null,
   "source": [
    "# 별점 생성\n",
    "import streamlit as st\n",
    "\n",
    "sentiment_mapping = [\"one\", \"two\", \"three\", \"four\", \"five\"]\n",
    "selected = st.feedback(\"stars\")\n",
    "if selected is not None:\n",
    "    st.markdown(f\"You selected {sentiment_mapping[selected]} star(s).\")"
   ],
   "id": "7b22774fefe49ebd"
  }
 ],
 "metadata": {
  "kernelspec": {
   "display_name": "Python 3",
   "language": "python",
   "name": "python3"
  },
  "language_info": {
   "codemirror_mode": {
    "name": "ipython",
    "version": 2
   },
   "file_extension": ".py",
   "mimetype": "text/x-python",
   "name": "python",
   "nbconvert_exporter": "python",
   "pygments_lexer": "ipython2",
   "version": "2.7.6"
  }
 },
 "nbformat": 4,
 "nbformat_minor": 5
}
